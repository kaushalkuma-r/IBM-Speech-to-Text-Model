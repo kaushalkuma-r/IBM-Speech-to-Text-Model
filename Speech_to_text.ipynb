{
 "cells": [
  {
   "cell_type": "markdown",
   "id": "d28f3a64",
   "metadata": {},
   "source": [
    "## WATSON SPEECH TO TEXT TRANSLATOR"
   ]
  },
  {
   "cell_type": "markdown",
   "id": "c36b7efa",
   "metadata": {},
   "source": [
    "First we will install the required watson libraries."
   ]
  },
  {
   "cell_type": "code",
   "execution_count": 26,
   "id": "fed28664",
   "metadata": {},
   "outputs": [
    {
     "name": "stdout",
     "output_type": "stream",
     "text": [
      "Requirement already satisfied: ibm_watson in c:\\users\\broshal\\anaconda3\\lib\\site-packages (5.2.3)\n",
      "Requirement already satisfied: wget in c:\\users\\broshal\\anaconda3\\lib\\site-packages (3.2)\n",
      "Requirement already satisfied: ibm-cloud-sdk-core==3.*,>=3.3.6 in c:\\users\\broshal\\anaconda3\\lib\\site-packages (from ibm_watson) (3.11.3)\n",
      "Requirement already satisfied: requests<3.0,>=2.0 in c:\\users\\broshal\\anaconda3\\lib\\site-packages (from ibm_watson) (2.25.1)\n",
      "Requirement already satisfied: python-dateutil>=2.5.3 in c:\\users\\broshal\\anaconda3\\lib\\site-packages (from ibm_watson) (2.8.1)\n",
      "Requirement already satisfied: websocket-client==1.1.0 in c:\\users\\broshal\\anaconda3\\lib\\site-packages (from ibm_watson) (1.1.0)\n",
      "Requirement already satisfied: PyJWT<3.0.0,>=2.0.1 in c:\\users\\broshal\\anaconda3\\lib\\site-packages (from ibm-cloud-sdk-core==3.*,>=3.3.6->ibm_watson) (2.1.0)\n",
      "Requirement already satisfied: six>=1.5 in c:\\users\\broshal\\anaconda3\\lib\\site-packages (from python-dateutil>=2.5.3->ibm_watson) (1.15.0)\n",
      "Requirement already satisfied: idna<3,>=2.5 in c:\\users\\broshal\\anaconda3\\lib\\site-packages (from requests<3.0,>=2.0->ibm_watson) (2.10)\n",
      "Requirement already satisfied: chardet<5,>=3.0.2 in c:\\users\\broshal\\anaconda3\\lib\\site-packages (from requests<3.0,>=2.0->ibm_watson) (4.0.0)\n",
      "Requirement already satisfied: urllib3<1.27,>=1.21.1 in c:\\users\\broshal\\anaconda3\\lib\\site-packages (from requests<3.0,>=2.0->ibm_watson) (1.26.4)\n",
      "Requirement already satisfied: certifi>=2017.4.17 in c:\\users\\broshal\\anaconda3\\lib\\site-packages (from requests<3.0,>=2.0->ibm_watson) (2020.12.5)\n"
     ]
    }
   ],
   "source": [
    "!pip install ibm_watson wget"
   ]
  },
  {
   "cell_type": "markdown",
   "id": "e6671bc7",
   "metadata": {},
   "source": [
    "Now we are going to import the Speech to text service from IBM cloud which will provide us APIs that use IBM's speech-recognition capabilities to produce transcripts of spoken audio.We are also importing Json library for Rest APIs."
   ]
  },
  {
   "cell_type": "code",
   "execution_count": 27,
   "id": "19a40f39",
   "metadata": {},
   "outputs": [],
   "source": [
    "from ibm_watson import SpeechToTextV1 \n",
    "import json\n",
    "from ibm_cloud_sdk_core.authenticators import IAMAuthenticator"
   ]
  },
  {
   "cell_type": "markdown",
   "id": "648daede",
   "metadata": {},
   "source": [
    "Now we are required to enter the API key and URL of IBM watson service that we created in the Cloud.b "
   ]
  },
  {
   "cell_type": "code",
   "execution_count": 28,
   "id": "d576347c",
   "metadata": {},
   "outputs": [],
   "source": [
    "url_s2t=\"https://api.eu-gb.speech-to-text.watson.cloud.ibm.com/instances/e7d463b3-2c19-479b-94e5-9c40e92a491d\""
   ]
  },
  {
   "cell_type": "code",
   "execution_count": 29,
   "id": "7c3f7717",
   "metadata": {},
   "outputs": [],
   "source": [
    "iam_apikey_s2t=\"CjlC6p0jSZzBIiRwAEdnkDkZjJMD93A_hlj1-YvpRP8C\""
   ]
  },
  {
   "cell_type": "code",
   "execution_count": 30,
   "id": "8c1ea6b6",
   "metadata": {},
   "outputs": [
    {
     "data": {
      "text/plain": [
       "<ibm_watson.speech_to_text_v1_adapter.SpeechToTextV1Adapter at 0x2c5b23128e0>"
      ]
     },
     "execution_count": 30,
     "metadata": {},
     "output_type": "execute_result"
    }
   ],
   "source": [
    "authenticator = IAMAuthenticator(iam_apikey_s2t)\n",
    "s2t = SpeechToTextV1(authenticator=authenticator)\n",
    "s2t.set_service_url(url_s2t)\n",
    "s2t"
   ]
  },
  {
   "cell_type": "code",
   "execution_count": 31,
   "id": "a77bc520",
   "metadata": {},
   "outputs": [],
   "source": [
    "filename='kka.mp3'"
   ]
  },
  {
   "cell_type": "code",
   "execution_count": 32,
   "id": "274e438a",
   "metadata": {},
   "outputs": [],
   "source": [
    "with open(filename, mode=\"rb\")  as wav:\n",
    "    response = s2t.recognize(audio=wav, content_type='audio/mp3')"
   ]
  },
  {
   "cell_type": "code",
   "execution_count": 33,
   "id": "e9f0d03a",
   "metadata": {},
   "outputs": [
    {
     "data": {
      "text/plain": [
       "{'result_index': 0,\n",
       " 'results': [{'final': True,\n",
       "   'alternatives': [{'transcript': 'I was gonna go easy on you not to hurt your feelings ',\n",
       "     'confidence': 0.8}]},\n",
       "  {'final': True, 'alternatives': [{'transcript': 'I ', 'confidence': 0.39}]},\n",
       "  {'final': True,\n",
       "   'alternatives': [{'transcript': 'this ', 'confidence': 0.91}]},\n",
       "  {'final': True,\n",
       "   'alternatives': [{'transcript': 'I can just ', 'confidence': 0.87}]},\n",
       "  {'final': True,\n",
       "   'alternatives': [{'transcript': 'something some of the ',\n",
       "     'confidence': 0.4}]},\n",
       "  {'final': True, 'alternatives': [{'transcript': 'if ', 'confidence': 0.75}]},\n",
       "  {'final': True,\n",
       "   'alternatives': [{'transcript': \"I'm not taking any chances \",\n",
       "     'confidence': 0.83}]},\n",
       "  {'final': True,\n",
       "   'alternatives': [{'transcript': 'thanks ', 'confidence': 0.49}]},\n",
       "  {'final': True,\n",
       "   'alternatives': [{'transcript': 'this ', 'confidence': 0.49}]},\n",
       "  {'final': True,\n",
       "   'alternatives': [{'transcript': 'the seventy backpack in the mac in the back ',\n",
       "     'confidence': 0.7}]},\n",
       "  {'final': True,\n",
       "   'alternatives': [{'transcript': 'yeah ', 'confidence': 0.47}]},\n",
       "  {'final': True,\n",
       "   'alternatives': [{'transcript': 'Texas ', 'confidence': 0.32}]},\n",
       "  {'final': True,\n",
       "   'alternatives': [{'transcript': 'table of the bank the bank is a crack at it ',\n",
       "     'confidence': 0.62}]},\n",
       "  {'final': True,\n",
       "   'alternatives': [{'transcript': 'it was ironic I was on the aftermath after the fact how could I not ',\n",
       "     'confidence': 0.38}]},\n",
       "  {'final': True,\n",
       "   'alternatives': [{'transcript': \"the tech map of the habitable he's a maxi pad six of the disaster the bad for the weapons of mass destruction this mess \",\n",
       "     'confidence': 0.49}]},\n",
       "  {'final': True,\n",
       "   'alternatives': [{'transcript': 'thanks ', 'confidence': 0.46}]},\n",
       "  {'final': True,\n",
       "   'alternatives': [{'transcript': 'so you maintain this ',\n",
       "     'confidence': 0.66}]},\n",
       "  {'final': True,\n",
       "   'alternatives': [{'transcript': 'everybody ', 'confidence': 0.86}]},\n",
       "  {'final': True,\n",
       "   'alternatives': [{'transcript': 'I have ', 'confidence': 0.9}]},\n",
       "  {'final': True,\n",
       "   'alternatives': [{'transcript': 'everybody ', 'confidence': 0.99}]},\n",
       "  {'final': True,\n",
       "   'alternatives': [{'transcript': 'since taking the ', 'confidence': 0.41}]},\n",
       "  {'final': True,\n",
       "   'alternatives': [{'transcript': 'W. thank you ', 'confidence': 0.88}]},\n",
       "  {'final': True,\n",
       "   'alternatives': [{'transcript': 'it seems to me ', 'confidence': 0.32}]},\n",
       "  {'final': True,\n",
       "   'alternatives': [{'transcript': 'thank ', 'confidence': 0.2}]},\n",
       "  {'final': True,\n",
       "   'alternatives': [{'transcript': 'thank you to me ', 'confidence': 0.74}]},\n",
       "  {'final': True,\n",
       "   'alternatives': [{'transcript': 'thank you ', 'confidence': 0.94}]},\n",
       "  {'final': True,\n",
       "   'alternatives': [{'transcript': 'okay he said it was pretty close to the border twenty seven ',\n",
       "     'confidence': 0.55}]},\n",
       "  {'final': True,\n",
       "   'alternatives': [{'transcript': 'much of the church for decades the boy ',\n",
       "     'confidence': 0.35}]},\n",
       "  {'final': True,\n",
       "   'alternatives': [{'transcript': 'it employs only once you get it from the back in a way to go ',\n",
       "     'confidence': 0.56}]},\n",
       "  {'final': True,\n",
       "   'alternatives': [{'transcript': 'the board the board which is comprised of the complex ',\n",
       "     'confidence': 0.35}]},\n",
       "  {'final': True,\n",
       "   'alternatives': [{'transcript': 'establish a secure support ',\n",
       "     'confidence': 0.44}]},\n",
       "  {'final': True,\n",
       "   'alternatives': [{'transcript': 'it will say what ', 'confidence': 0.55}]},\n",
       "  {'final': True,\n",
       "   'alternatives': [{'transcript': 'the number ', 'confidence': 0.53}]},\n",
       "  {'final': True,\n",
       "   'alternatives': [{'transcript': 'the walking dead ', 'confidence': 0.64}]},\n",
       "  {'final': True,\n",
       "   'alternatives': [{'transcript': 'but I got to my ', 'confidence': 0.56}]},\n",
       "  {'final': True,\n",
       "   'alternatives': [{'transcript': 'in the coming ', 'confidence': 0.22}]},\n",
       "  {'final': True, 'alternatives': [{'transcript': 'me ', 'confidence': 0.7}]},\n",
       "  {'final': True,\n",
       "   'alternatives': [{'transcript': \"but it's honestly futile the final the last one at two local schools \",\n",
       "     'confidence': 0.55}]},\n",
       "  {'final': True,\n",
       "   'alternatives': [{'transcript': 'also I wanna make sure ',\n",
       "     'confidence': 0.67}]},\n",
       "  {'final': True,\n",
       "   'alternatives': [{'transcript': 'I just think ', 'confidence': 0.66}]},\n",
       "  {'final': True,\n",
       "   'alternatives': [{'transcript': 'when you ', 'confidence': 0.74}]},\n",
       "  {'final': True,\n",
       "   'alternatives': [{'transcript': 'with ', 'confidence': 0.71}]},\n",
       "  {'final': True,\n",
       "   'alternatives': [{'transcript': 'thank ', 'confidence': 0.29}]},\n",
       "  {'final': True, 'alternatives': [{'transcript': 'St ', 'confidence': 0.34}]},\n",
       "  {'final': True,\n",
       "   'alternatives': [{'transcript': 'very next day Hey fat ',\n",
       "     'confidence': 0.55}]},\n",
       "  {'final': True,\n",
       "   'alternatives': [{'transcript': 'coming into supersonic speeds ',\n",
       "     'confidence': 0.56}]},\n",
       "  {'final': True,\n",
       "   'alternatives': [{'transcript': 'two main street ', 'confidence': 0.48}]},\n",
       "  {'final': True,\n",
       "   'alternatives': [{'transcript': \"it's not \", 'confidence': 0.81}]},\n",
       "  {'final': True,\n",
       "   'alternatives': [{'transcript': 'the use ', 'confidence': 0.43}]},\n",
       "  {'final': True,\n",
       "   'alternatives': [{'transcript': 'first the first is you ',\n",
       "     'confidence': 0.69}]},\n",
       "  {'final': True,\n",
       "   'alternatives': [{'transcript': 'sacrifice virgins to ',\n",
       "     'confidence': 0.45}]},\n",
       "  {'final': True,\n",
       "   'alternatives': [{'transcript': 'but look at the activity ',\n",
       "     'confidence': 0.41}]},\n",
       "  {'final': True,\n",
       "   'alternatives': [{'transcript': '**** you take me a little sweeping the floor ',\n",
       "     'confidence': 0.37}]},\n",
       "  {'final': True,\n",
       "   'alternatives': [{'transcript': 'in the boys ', 'confidence': 0.68}]},\n",
       "  {'final': True,\n",
       "   'alternatives': [{'transcript': 'something can feel talking instruct agents fight with devils he is what they want from and to meet with some of the women need to take into consideration the ',\n",
       "     'confidence': 0.79}]},\n",
       "  {'final': True,\n",
       "   'alternatives': [{'transcript': 'then you may be a little more ',\n",
       "     'confidence': 0.72}]},\n",
       "  {'final': True,\n",
       "   'alternatives': [{'transcript': \"it's a race discrimination \",\n",
       "     'confidence': 0.53}]},\n",
       "  {'final': True,\n",
       "   'alternatives': [{'transcript': 'thank ', 'confidence': 0.45}]},\n",
       "  {'final': True,\n",
       "   'alternatives': [{'transcript': 'the women ', 'confidence': 0.62}]},\n",
       "  {'final': True,\n",
       "   'alternatives': [{'transcript': 'I think I need to be a season take a vacation trip abroad in make up ',\n",
       "     'confidence': 0.71}]}]}"
      ]
     },
     "execution_count": 33,
     "metadata": {},
     "output_type": "execute_result"
    }
   ],
   "source": [
    "response.result"
   ]
  },
  {
   "cell_type": "markdown",
   "id": "58e44e98",
   "metadata": {},
   "source": [
    "Now we want to present the information in an organized manner so for that we are using normalize for json."
   ]
  },
  {
   "cell_type": "code",
   "execution_count": 34,
   "id": "58eaa088",
   "metadata": {},
   "outputs": [
    {
     "data": {
      "text/html": [
       "<div>\n",
       "<style scoped>\n",
       "    .dataframe tbody tr th:only-of-type {\n",
       "        vertical-align: middle;\n",
       "    }\n",
       "\n",
       "    .dataframe tbody tr th {\n",
       "        vertical-align: top;\n",
       "    }\n",
       "\n",
       "    .dataframe thead th {\n",
       "        text-align: right;\n",
       "    }\n",
       "</style>\n",
       "<table border=\"1\" class=\"dataframe\">\n",
       "  <thead>\n",
       "    <tr style=\"text-align: right;\">\n",
       "      <th></th>\n",
       "      <th>transcript</th>\n",
       "      <th>confidence</th>\n",
       "    </tr>\n",
       "  </thead>\n",
       "  <tbody>\n",
       "    <tr>\n",
       "      <th>0</th>\n",
       "      <td>I was gonna go easy on you not to hurt your fe...</td>\n",
       "      <td>0.80</td>\n",
       "    </tr>\n",
       "    <tr>\n",
       "      <th>1</th>\n",
       "      <td>I</td>\n",
       "      <td>0.39</td>\n",
       "    </tr>\n",
       "    <tr>\n",
       "      <th>2</th>\n",
       "      <td>this</td>\n",
       "      <td>0.91</td>\n",
       "    </tr>\n",
       "    <tr>\n",
       "      <th>3</th>\n",
       "      <td>I can just</td>\n",
       "      <td>0.87</td>\n",
       "    </tr>\n",
       "    <tr>\n",
       "      <th>4</th>\n",
       "      <td>something some of the</td>\n",
       "      <td>0.40</td>\n",
       "    </tr>\n",
       "    <tr>\n",
       "      <th>5</th>\n",
       "      <td>if</td>\n",
       "      <td>0.75</td>\n",
       "    </tr>\n",
       "    <tr>\n",
       "      <th>6</th>\n",
       "      <td>I'm not taking any chances</td>\n",
       "      <td>0.83</td>\n",
       "    </tr>\n",
       "    <tr>\n",
       "      <th>7</th>\n",
       "      <td>thanks</td>\n",
       "      <td>0.49</td>\n",
       "    </tr>\n",
       "    <tr>\n",
       "      <th>8</th>\n",
       "      <td>this</td>\n",
       "      <td>0.49</td>\n",
       "    </tr>\n",
       "    <tr>\n",
       "      <th>9</th>\n",
       "      <td>the seventy backpack in the mac in the back</td>\n",
       "      <td>0.70</td>\n",
       "    </tr>\n",
       "    <tr>\n",
       "      <th>10</th>\n",
       "      <td>yeah</td>\n",
       "      <td>0.47</td>\n",
       "    </tr>\n",
       "    <tr>\n",
       "      <th>11</th>\n",
       "      <td>Texas</td>\n",
       "      <td>0.32</td>\n",
       "    </tr>\n",
       "    <tr>\n",
       "      <th>12</th>\n",
       "      <td>table of the bank the bank is a crack at it</td>\n",
       "      <td>0.62</td>\n",
       "    </tr>\n",
       "    <tr>\n",
       "      <th>13</th>\n",
       "      <td>it was ironic I was on the aftermath after the...</td>\n",
       "      <td>0.38</td>\n",
       "    </tr>\n",
       "    <tr>\n",
       "      <th>14</th>\n",
       "      <td>the tech map of the habitable he's a maxi pad ...</td>\n",
       "      <td>0.49</td>\n",
       "    </tr>\n",
       "    <tr>\n",
       "      <th>15</th>\n",
       "      <td>thanks</td>\n",
       "      <td>0.46</td>\n",
       "    </tr>\n",
       "    <tr>\n",
       "      <th>16</th>\n",
       "      <td>so you maintain this</td>\n",
       "      <td>0.66</td>\n",
       "    </tr>\n",
       "    <tr>\n",
       "      <th>17</th>\n",
       "      <td>everybody</td>\n",
       "      <td>0.86</td>\n",
       "    </tr>\n",
       "    <tr>\n",
       "      <th>18</th>\n",
       "      <td>I have</td>\n",
       "      <td>0.90</td>\n",
       "    </tr>\n",
       "    <tr>\n",
       "      <th>19</th>\n",
       "      <td>everybody</td>\n",
       "      <td>0.99</td>\n",
       "    </tr>\n",
       "    <tr>\n",
       "      <th>20</th>\n",
       "      <td>since taking the</td>\n",
       "      <td>0.41</td>\n",
       "    </tr>\n",
       "    <tr>\n",
       "      <th>21</th>\n",
       "      <td>W. thank you</td>\n",
       "      <td>0.88</td>\n",
       "    </tr>\n",
       "    <tr>\n",
       "      <th>22</th>\n",
       "      <td>it seems to me</td>\n",
       "      <td>0.32</td>\n",
       "    </tr>\n",
       "    <tr>\n",
       "      <th>23</th>\n",
       "      <td>thank</td>\n",
       "      <td>0.20</td>\n",
       "    </tr>\n",
       "    <tr>\n",
       "      <th>24</th>\n",
       "      <td>thank you to me</td>\n",
       "      <td>0.74</td>\n",
       "    </tr>\n",
       "    <tr>\n",
       "      <th>25</th>\n",
       "      <td>thank you</td>\n",
       "      <td>0.94</td>\n",
       "    </tr>\n",
       "    <tr>\n",
       "      <th>26</th>\n",
       "      <td>okay he said it was pretty close to the border...</td>\n",
       "      <td>0.55</td>\n",
       "    </tr>\n",
       "    <tr>\n",
       "      <th>27</th>\n",
       "      <td>much of the church for decades the boy</td>\n",
       "      <td>0.35</td>\n",
       "    </tr>\n",
       "    <tr>\n",
       "      <th>28</th>\n",
       "      <td>it employs only once you get it from the back ...</td>\n",
       "      <td>0.56</td>\n",
       "    </tr>\n",
       "    <tr>\n",
       "      <th>29</th>\n",
       "      <td>the board the board which is comprised of the ...</td>\n",
       "      <td>0.35</td>\n",
       "    </tr>\n",
       "    <tr>\n",
       "      <th>30</th>\n",
       "      <td>establish a secure support</td>\n",
       "      <td>0.44</td>\n",
       "    </tr>\n",
       "    <tr>\n",
       "      <th>31</th>\n",
       "      <td>it will say what</td>\n",
       "      <td>0.55</td>\n",
       "    </tr>\n",
       "    <tr>\n",
       "      <th>32</th>\n",
       "      <td>the number</td>\n",
       "      <td>0.53</td>\n",
       "    </tr>\n",
       "    <tr>\n",
       "      <th>33</th>\n",
       "      <td>the walking dead</td>\n",
       "      <td>0.64</td>\n",
       "    </tr>\n",
       "    <tr>\n",
       "      <th>34</th>\n",
       "      <td>but I got to my</td>\n",
       "      <td>0.56</td>\n",
       "    </tr>\n",
       "    <tr>\n",
       "      <th>35</th>\n",
       "      <td>in the coming</td>\n",
       "      <td>0.22</td>\n",
       "    </tr>\n",
       "    <tr>\n",
       "      <th>36</th>\n",
       "      <td>me</td>\n",
       "      <td>0.70</td>\n",
       "    </tr>\n",
       "    <tr>\n",
       "      <th>37</th>\n",
       "      <td>but it's honestly futile the final the last on...</td>\n",
       "      <td>0.55</td>\n",
       "    </tr>\n",
       "    <tr>\n",
       "      <th>38</th>\n",
       "      <td>also I wanna make sure</td>\n",
       "      <td>0.67</td>\n",
       "    </tr>\n",
       "    <tr>\n",
       "      <th>39</th>\n",
       "      <td>I just think</td>\n",
       "      <td>0.66</td>\n",
       "    </tr>\n",
       "    <tr>\n",
       "      <th>40</th>\n",
       "      <td>when you</td>\n",
       "      <td>0.74</td>\n",
       "    </tr>\n",
       "    <tr>\n",
       "      <th>41</th>\n",
       "      <td>with</td>\n",
       "      <td>0.71</td>\n",
       "    </tr>\n",
       "    <tr>\n",
       "      <th>42</th>\n",
       "      <td>thank</td>\n",
       "      <td>0.29</td>\n",
       "    </tr>\n",
       "    <tr>\n",
       "      <th>43</th>\n",
       "      <td>St</td>\n",
       "      <td>0.34</td>\n",
       "    </tr>\n",
       "    <tr>\n",
       "      <th>44</th>\n",
       "      <td>very next day Hey fat</td>\n",
       "      <td>0.55</td>\n",
       "    </tr>\n",
       "    <tr>\n",
       "      <th>45</th>\n",
       "      <td>coming into supersonic speeds</td>\n",
       "      <td>0.56</td>\n",
       "    </tr>\n",
       "    <tr>\n",
       "      <th>46</th>\n",
       "      <td>two main street</td>\n",
       "      <td>0.48</td>\n",
       "    </tr>\n",
       "    <tr>\n",
       "      <th>47</th>\n",
       "      <td>it's not</td>\n",
       "      <td>0.81</td>\n",
       "    </tr>\n",
       "    <tr>\n",
       "      <th>48</th>\n",
       "      <td>the use</td>\n",
       "      <td>0.43</td>\n",
       "    </tr>\n",
       "    <tr>\n",
       "      <th>49</th>\n",
       "      <td>first the first is you</td>\n",
       "      <td>0.69</td>\n",
       "    </tr>\n",
       "    <tr>\n",
       "      <th>50</th>\n",
       "      <td>sacrifice virgins to</td>\n",
       "      <td>0.45</td>\n",
       "    </tr>\n",
       "    <tr>\n",
       "      <th>51</th>\n",
       "      <td>but look at the activity</td>\n",
       "      <td>0.41</td>\n",
       "    </tr>\n",
       "    <tr>\n",
       "      <th>52</th>\n",
       "      <td>**** you take me a little sweeping the floor</td>\n",
       "      <td>0.37</td>\n",
       "    </tr>\n",
       "    <tr>\n",
       "      <th>53</th>\n",
       "      <td>in the boys</td>\n",
       "      <td>0.68</td>\n",
       "    </tr>\n",
       "    <tr>\n",
       "      <th>54</th>\n",
       "      <td>something can feel talking instruct agents fig...</td>\n",
       "      <td>0.79</td>\n",
       "    </tr>\n",
       "    <tr>\n",
       "      <th>55</th>\n",
       "      <td>then you may be a little more</td>\n",
       "      <td>0.72</td>\n",
       "    </tr>\n",
       "    <tr>\n",
       "      <th>56</th>\n",
       "      <td>it's a race discrimination</td>\n",
       "      <td>0.53</td>\n",
       "    </tr>\n",
       "    <tr>\n",
       "      <th>57</th>\n",
       "      <td>thank</td>\n",
       "      <td>0.45</td>\n",
       "    </tr>\n",
       "    <tr>\n",
       "      <th>58</th>\n",
       "      <td>the women</td>\n",
       "      <td>0.62</td>\n",
       "    </tr>\n",
       "    <tr>\n",
       "      <th>59</th>\n",
       "      <td>I think I need to be a season take a vacation ...</td>\n",
       "      <td>0.71</td>\n",
       "    </tr>\n",
       "  </tbody>\n",
       "</table>\n",
       "</div>"
      ],
      "text/plain": [
       "                                           transcript  confidence\n",
       "0   I was gonna go easy on you not to hurt your fe...        0.80\n",
       "1                                                  I         0.39\n",
       "2                                               this         0.91\n",
       "3                                         I can just         0.87\n",
       "4                              something some of the         0.40\n",
       "5                                                 if         0.75\n",
       "6                         I'm not taking any chances         0.83\n",
       "7                                             thanks         0.49\n",
       "8                                               this         0.49\n",
       "9        the seventy backpack in the mac in the back         0.70\n",
       "10                                              yeah         0.47\n",
       "11                                             Texas         0.32\n",
       "12       table of the bank the bank is a crack at it         0.62\n",
       "13  it was ironic I was on the aftermath after the...        0.38\n",
       "14  the tech map of the habitable he's a maxi pad ...        0.49\n",
       "15                                            thanks         0.46\n",
       "16                              so you maintain this         0.66\n",
       "17                                         everybody         0.86\n",
       "18                                            I have         0.90\n",
       "19                                         everybody         0.99\n",
       "20                                  since taking the         0.41\n",
       "21                                      W. thank you         0.88\n",
       "22                                    it seems to me         0.32\n",
       "23                                             thank         0.20\n",
       "24                                   thank you to me         0.74\n",
       "25                                         thank you         0.94\n",
       "26  okay he said it was pretty close to the border...        0.55\n",
       "27            much of the church for decades the boy         0.35\n",
       "28  it employs only once you get it from the back ...        0.56\n",
       "29  the board the board which is comprised of the ...        0.35\n",
       "30                        establish a secure support         0.44\n",
       "31                                  it will say what         0.55\n",
       "32                                        the number         0.53\n",
       "33                                  the walking dead         0.64\n",
       "34                                   but I got to my         0.56\n",
       "35                                     in the coming         0.22\n",
       "36                                                me         0.70\n",
       "37  but it's honestly futile the final the last on...        0.55\n",
       "38                            also I wanna make sure         0.67\n",
       "39                                      I just think         0.66\n",
       "40                                          when you         0.74\n",
       "41                                              with         0.71\n",
       "42                                             thank         0.29\n",
       "43                                                St         0.34\n",
       "44                             very next day Hey fat         0.55\n",
       "45                     coming into supersonic speeds         0.56\n",
       "46                                   two main street         0.48\n",
       "47                                          it's not         0.81\n",
       "48                                           the use         0.43\n",
       "49                            first the first is you         0.69\n",
       "50                              sacrifice virgins to         0.45\n",
       "51                          but look at the activity         0.41\n",
       "52      **** you take me a little sweeping the floor         0.37\n",
       "53                                       in the boys         0.68\n",
       "54  something can feel talking instruct agents fig...        0.79\n",
       "55                     then you may be a little more         0.72\n",
       "56                        it's a race discrimination         0.53\n",
       "57                                             thank         0.45\n",
       "58                                         the women         0.62\n",
       "59  I think I need to be a season take a vacation ...        0.71"
      ]
     },
     "execution_count": 34,
     "metadata": {},
     "output_type": "execute_result"
    }
   ],
   "source": [
    "from pandas import json_normalize\n",
    "\n",
    "json_normalize(response.result['results'],\"alternatives\")"
   ]
  },
  {
   "cell_type": "code",
   "execution_count": 35,
   "id": "5630f7fd",
   "metadata": {},
   "outputs": [
    {
     "data": {
      "text/plain": [
       "<ibm_cloud_sdk_core.detailed_response.DetailedResponse at 0x2c5b23127c0>"
      ]
     },
     "execution_count": 35,
     "metadata": {},
     "output_type": "execute_result"
    }
   ],
   "source": [
    "response"
   ]
  },
  {
   "cell_type": "markdown",
   "id": "63c15003",
   "metadata": {},
   "source": [
    "Now for further use, we are going to obtain the recognized text and store it in a variable."
   ]
  },
  {
   "cell_type": "code",
   "execution_count": 36,
   "id": "53bfe94b",
   "metadata": {},
   "outputs": [
    {
     "data": {
      "text/plain": [
       "str"
      ]
     },
     "execution_count": 36,
     "metadata": {},
     "output_type": "execute_result"
    }
   ],
   "source": [
    "rec_text=response.result['results'][0][\"alternatives\"][0][\"transcript\"]\n",
    "type(rec_text)"
   ]
  },
  {
   "cell_type": "markdown",
   "id": "31e7d0f3",
   "metadata": {},
   "source": [
    "## Translation of Obtained Text\n",
    "### For translation, we are going to import the LanguageTranslatorV3 from ibm_watson library."
   ]
  },
  {
   "cell_type": "code",
   "execution_count": 37,
   "id": "675fe36f",
   "metadata": {},
   "outputs": [],
   "source": [
    "from ibm_watson import LanguageTranslatorV3"
   ]
  },
  {
   "cell_type": "code",
   "execution_count": 38,
   "id": "74ef3e9a",
   "metadata": {},
   "outputs": [],
   "source": [
    "url_lt='https://api.eu-gb.language-translator.watson.cloud.ibm.com/instances/925a2793-be50-4b1a-b04d-83d67710c40f'"
   ]
  },
  {
   "cell_type": "code",
   "execution_count": 39,
   "id": "82959064",
   "metadata": {},
   "outputs": [],
   "source": [
    "api_it=\"8Oi7tYxkC30Qe8YAfunkXhxOgUx-lKR0irbPAb0vRN1J\""
   ]
  },
  {
   "cell_type": "code",
   "execution_count": 40,
   "id": "85911660",
   "metadata": {},
   "outputs": [],
   "source": [
    "version_lt='2018-05-01'"
   ]
  },
  {
   "cell_type": "markdown",
   "id": "b200cbb3",
   "metadata": {},
   "source": [
    "#### After providing the API key and URL for the Service from IBM cloud, we are going to create a language translator object with the help of LanguageTranslatorV3 module."
   ]
  },
  {
   "cell_type": "code",
   "execution_count": 41,
   "id": "7fa341ff",
   "metadata": {},
   "outputs": [
    {
     "data": {
      "text/plain": [
       "<ibm_watson.language_translator_v3.LanguageTranslatorV3 at 0x2c5b2330f40>"
      ]
     },
     "execution_count": 41,
     "metadata": {},
     "output_type": "execute_result"
    }
   ],
   "source": [
    "authenticator=IAMAuthenticator(api_it)\n",
    "lang_trans=LanguageTranslatorV3(version=version_lt,authenticator=authenticator)\n",
    "lang_trans.set_service_url(url_lt)\n",
    "lang_trans"
   ]
  },
  {
   "cell_type": "markdown",
   "id": "fc74cbb5",
   "metadata": {},
   "source": [
    "#### Now we are going to get the languages this service can identify and translate.The following snippet of code returns the language code."
   ]
  },
  {
   "cell_type": "code",
   "execution_count": 42,
   "id": "6b74c020",
   "metadata": {},
   "outputs": [
    {
     "data": {
      "text/html": [
       "<div>\n",
       "<style scoped>\n",
       "    .dataframe tbody tr th:only-of-type {\n",
       "        vertical-align: middle;\n",
       "    }\n",
       "\n",
       "    .dataframe tbody tr th {\n",
       "        vertical-align: top;\n",
       "    }\n",
       "\n",
       "    .dataframe thead th {\n",
       "        text-align: right;\n",
       "    }\n",
       "</style>\n",
       "<table border=\"1\" class=\"dataframe\">\n",
       "  <thead>\n",
       "    <tr style=\"text-align: right;\">\n",
       "      <th></th>\n",
       "      <th>language</th>\n",
       "      <th>name</th>\n",
       "    </tr>\n",
       "  </thead>\n",
       "  <tbody>\n",
       "    <tr>\n",
       "      <th>0</th>\n",
       "      <td>af</td>\n",
       "      <td>Afrikaans</td>\n",
       "    </tr>\n",
       "    <tr>\n",
       "      <th>1</th>\n",
       "      <td>ar</td>\n",
       "      <td>Arabic</td>\n",
       "    </tr>\n",
       "    <tr>\n",
       "      <th>2</th>\n",
       "      <td>az</td>\n",
       "      <td>Azerbaijani</td>\n",
       "    </tr>\n",
       "    <tr>\n",
       "      <th>3</th>\n",
       "      <td>ba</td>\n",
       "      <td>Bashkir</td>\n",
       "    </tr>\n",
       "    <tr>\n",
       "      <th>4</th>\n",
       "      <td>be</td>\n",
       "      <td>Belarusian</td>\n",
       "    </tr>\n",
       "    <tr>\n",
       "      <th>...</th>\n",
       "      <td>...</td>\n",
       "      <td>...</td>\n",
       "    </tr>\n",
       "    <tr>\n",
       "      <th>71</th>\n",
       "      <td>uk</td>\n",
       "      <td>Ukrainian</td>\n",
       "    </tr>\n",
       "    <tr>\n",
       "      <th>72</th>\n",
       "      <td>ur</td>\n",
       "      <td>Urdu</td>\n",
       "    </tr>\n",
       "    <tr>\n",
       "      <th>73</th>\n",
       "      <td>vi</td>\n",
       "      <td>Vietnamese</td>\n",
       "    </tr>\n",
       "    <tr>\n",
       "      <th>74</th>\n",
       "      <td>zh</td>\n",
       "      <td>Simplified Chinese</td>\n",
       "    </tr>\n",
       "    <tr>\n",
       "      <th>75</th>\n",
       "      <td>zh-TW</td>\n",
       "      <td>Traditional Chinese</td>\n",
       "    </tr>\n",
       "  </tbody>\n",
       "</table>\n",
       "<p>76 rows × 2 columns</p>\n",
       "</div>"
      ],
      "text/plain": [
       "   language                 name\n",
       "0        af            Afrikaans\n",
       "1        ar               Arabic\n",
       "2        az          Azerbaijani\n",
       "3        ba              Bashkir\n",
       "4        be           Belarusian\n",
       "..      ...                  ...\n",
       "71       uk            Ukrainian\n",
       "72       ur                 Urdu\n",
       "73       vi           Vietnamese\n",
       "74       zh   Simplified Chinese\n",
       "75    zh-TW  Traditional Chinese\n",
       "\n",
       "[76 rows x 2 columns]"
      ]
     },
     "execution_count": 42,
     "metadata": {},
     "output_type": "execute_result"
    }
   ],
   "source": [
    "from pandas import json_normalize\n",
    "\n",
    "json_normalize(lang_trans.list_identifiable_languages().get_result(), \"languages\")"
   ]
  },
  {
   "cell_type": "markdown",
   "id": "8860f85b",
   "metadata": {},
   "source": [
    "### Using the service, translating the obtained string to a specified language.In this case we will convert it into Spanish."
   ]
  },
  {
   "cell_type": "code",
   "execution_count": 43,
   "id": "9d3e225f",
   "metadata": {},
   "outputs": [
    {
     "data": {
      "text/plain": [
       "<ibm_cloud_sdk_core.detailed_response.DetailedResponse at 0x2c5b23555b0>"
      ]
     },
     "execution_count": 43,
     "metadata": {},
     "output_type": "execute_result"
    }
   ],
   "source": [
    "translation_response = lang_trans.translate(text=rec_text, model_id='en-es')\n",
    "translation_response"
   ]
  },
  {
   "cell_type": "code",
   "execution_count": 44,
   "id": "2b778966",
   "metadata": {},
   "outputs": [
    {
     "data": {
      "text/plain": [
       "{'translations': [{'translation': 'Me iba a ir fácil para no herir sus sentimientos '}],\n",
       " 'word_count': 12,\n",
       " 'character_count': 53}"
      ]
     },
     "execution_count": 44,
     "metadata": {},
     "output_type": "execute_result"
    }
   ],
   "source": [
    "translation=translation_response.get_result()\n",
    "translation"
   ]
  },
  {
   "cell_type": "code",
   "execution_count": 45,
   "id": "6e55e74b",
   "metadata": {},
   "outputs": [
    {
     "data": {
      "text/plain": [
       "'Me iba a ir fácil para no herir sus sentimientos '"
      ]
     },
     "execution_count": 45,
     "metadata": {},
     "output_type": "execute_result"
    }
   ],
   "source": [
    "spanish_translation =translation['translations'][0]['translation']\n",
    "spanish_translation "
   ]
  },
  {
   "cell_type": "markdown",
   "id": "886ef73b",
   "metadata": {},
   "source": [
    "### We can translate the obtained string back to the original string easily by the same method."
   ]
  },
  {
   "cell_type": "code",
   "execution_count": 46,
   "id": "55a1024a",
   "metadata": {},
   "outputs": [],
   "source": [
    "translation_new = lang_trans.translate(text=spanish_translation ,model_id='es-en').get_result()"
   ]
  },
  {
   "cell_type": "code",
   "execution_count": 47,
   "id": "ff84d4bd",
   "metadata": {},
   "outputs": [
    {
     "data": {
      "text/plain": [
       "{'translations': [{'translation': 'I was going to go easy not to hurt your feelings '}],\n",
       " 'word_count': 10,\n",
       " 'character_count': 49}"
      ]
     },
     "execution_count": 47,
     "metadata": {},
     "output_type": "execute_result"
    }
   ],
   "source": [
    "translation_new"
   ]
  },
  {
   "cell_type": "code",
   "execution_count": 48,
   "id": "6ab0733d",
   "metadata": {},
   "outputs": [
    {
     "data": {
      "text/plain": [
       "'I was going to go easy not to hurt your feelings '"
      ]
     },
     "execution_count": 48,
     "metadata": {},
     "output_type": "execute_result"
    }
   ],
   "source": [
    "translation_eng=translation_new['translations'][0]['translation']\n",
    "translation_eng"
   ]
  },
  {
   "cell_type": "markdown",
   "id": "d730dfe1",
   "metadata": {},
   "source": [
    "### We can translate it to any language provided in the service."
   ]
  },
  {
   "cell_type": "code",
   "execution_count": 49,
   "id": "a18dcb02",
   "metadata": {},
   "outputs": [
    {
     "data": {
      "text/plain": [
       "{'translations': [{'translation': '我很想你不要伤害你的感情 '}],\n",
       " 'word_count': 12,\n",
       " 'character_count': 53}"
      ]
     },
     "execution_count": 49,
     "metadata": {},
     "output_type": "execute_result"
    }
   ],
   "source": [
    "trans=lang_trans.translate(text=rec_text,model_id='en-zh').get_result()\n",
    "trans"
   ]
  },
  {
   "cell_type": "code",
   "execution_count": 50,
   "id": "e29a1d2c",
   "metadata": {},
   "outputs": [
    {
     "data": {
      "text/plain": [
       "'我很想你不要伤害你的感情 '"
      ]
     },
     "execution_count": 50,
     "metadata": {},
     "output_type": "execute_result"
    }
   ],
   "source": [
    "translation_chinese=trans['translations'][0]['translation']\n",
    "translation_chinese"
   ]
  },
  {
   "cell_type": "code",
   "execution_count": null,
   "id": "a3d53388",
   "metadata": {},
   "outputs": [],
   "source": []
  }
 ],
 "metadata": {
  "kernelspec": {
   "display_name": "Python 3",
   "language": "python",
   "name": "python3"
  },
  "language_info": {
   "codemirror_mode": {
    "name": "ipython",
    "version": 3
   },
   "file_extension": ".py",
   "mimetype": "text/x-python",
   "name": "python",
   "nbconvert_exporter": "python",
   "pygments_lexer": "ipython3",
   "version": "3.8.8"
  }
 },
 "nbformat": 4,
 "nbformat_minor": 5
}
